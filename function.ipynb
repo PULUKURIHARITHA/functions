{
 "cells": [
  {
   "cell_type": "code",
   "execution_count": 1,
   "id": "7cfe1fa1-0401-4cad-a183-6bebece42cf2",
   "metadata": {},
   "outputs": [
    {
     "name": "stdin",
     "output_type": "stream",
     "text": [
      "enter the value of a: 19\n",
      "enter the value of b: 26\n",
      "enter the value of c: 5\n"
     ]
    },
    {
     "name": "stdout",
     "output_type": "stream",
     "text": [
      "maximum: 26\n",
      "minimum: 5\n"
     ]
    }
   ],
   "source": [
    "def max_min(a,b,c):\n",
    "    return max(a,b,c),min(a,b,c)\n",
    "a=int(input(\"enter the value of a:\",))\n",
    "b=int(input(\"enter the value of b:\",))\n",
    "c=int(input(\"enter the value of c:\",))\n",
    "max1,min1=max_min(a,b,c)\n",
    "print(\"maximum:\",max1)\n",
    "print(\"minimum:\",min1)"
   ]
  },
  {
   "cell_type": "code",
   "execution_count": 3,
   "id": "707d71de-8078-47e1-95ea-c28bd2839eb4",
   "metadata": {},
   "outputs": [
    {
     "name": "stdin",
     "output_type": "stream",
     "text": [
      "enter the number as space seperated: 19 26 15 11 12 10\n"
     ]
    },
    {
     "name": "stdout",
     "output_type": "stream",
     "text": [
      "even count: 3\n",
      "odd count: 3\n"
     ]
    }
   ],
   "source": [
    "#constraint:give the input as user defined\n",
    "def eo(numbers):\n",
    "    e=0\n",
    "    o=0\n",
    "    for n in numbers:\n",
    "        if n % 2==0:\n",
    "            e+=1\n",
    "        else:\n",
    "            o+=1\n",
    "    return e,o\n",
    "num=input(\"enter the number as space seperated:\")\n",
    "num_list=list(map(int,num.split()))\n",
    "e,o=eo(num_list)\n",
    "print(\"even count:\",e)\n",
    "print(\"odd count:\",o)"
   ]
  },
  {
   "cell_type": "code",
   "execution_count": null,
   "id": "1b531945-e82d-4bbd-ad53-8b42ccada831",
   "metadata": {},
   "outputs": [],
   "source": []
  }
 ],
 "metadata": {
  "kernelspec": {
   "display_name": "Python 3 (ipykernel)",
   "language": "python",
   "name": "python3"
  },
  "language_info": {
   "codemirror_mode": {
    "name": "ipython",
    "version": 3
   },
   "file_extension": ".py",
   "mimetype": "text/x-python",
   "name": "python",
   "nbconvert_exporter": "python",
   "pygments_lexer": "ipython3",
   "version": "3.12.7"
  }
 },
 "nbformat": 4,
 "nbformat_minor": 5
}
