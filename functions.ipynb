{
 "cells": [
  {
   "cell_type": "code",
   "execution_count": 9,
   "id": "34532b7f-18f7-44ed-8dbb-c1874de67c5d",
   "metadata": {},
   "outputs": [
    {
     "name": "stdout",
     "output_type": "stream",
     "text": [
      "Hello student\n",
      "Haritha Haritha Haritha Haritha Haritha \n"
     ]
    }
   ],
   "source": [
    "def hi():\n",
    "    print(\"Hello student\") #response for callee\n",
    "    print(\"Haritha \"*5) #map\n",
    "hi() #caller"
   ]
  },
  {
   "cell_type": "code",
   "execution_count": 21,
   "id": "5430dbcd-a35d-4c4c-b98f-d8d58c9351d1",
   "metadata": {},
   "outputs": [
    {
     "name": "stdin",
     "output_type": "stream",
     "text": [
      "enter the money: 100\n",
      "enter the money: 50\n"
     ]
    },
    {
     "name": "stdout",
     "output_type": "stream",
     "text": [
      "total money: 150\n"
     ]
    }
   ],
   "source": [
    "#function with parameters\n",
    "def add(student1,student2):\n",
    "    return student1+student2\n",
    "student1=int(input(\"enter the money:\"))\n",
    "student2=int(input(\"enter the money:\"))\n",
    "total=add(student1,student2)\n",
    "print(\"total money:\",total)"
   ]
  },
  {
   "cell_type": "code",
   "execution_count": 25,
   "id": "a758df84-d64c-4bb7-8c7b-81838bf743b7",
   "metadata": {},
   "outputs": [
    {
     "name": "stdin",
     "output_type": "stream",
     "text": [
      "enter the money: 100\n",
      "enter the money: 50\n"
     ]
    },
    {
     "name": "stdout",
     "output_type": "stream",
     "text": [
      "total: 150\n"
     ]
    }
   ],
   "source": [
    "#function with parameters\n",
    "#arg pass with return value\n",
    "def add(student1,student2):\n",
    "    print(\"total:\", student1+student2)\n",
    "student1=int(input(\"enter the money:\"))\n",
    "student2=int(input(\"enter the money:\"))\n",
    "add(student1,student2)"
   ]
  },
  {
   "cell_type": "code",
   "execution_count": 31,
   "id": "491de5fb-5c13-48c1-aae2-ee67bbd1d68d",
   "metadata": {},
   "outputs": [
    {
     "name": "stdout",
     "output_type": "stream",
     "text": [
      "Value in this function is 3.14159\n"
     ]
    }
   ],
   "source": [
    "#no arg pass with return value\n",
    "def value():\n",
    "    return 3.14159\n",
    "result=value()\n",
    "print(\"Value in this function is\",result)"
   ]
  },
  {
   "cell_type": "code",
   "execution_count": 35,
   "id": "cac3f726-2dcb-420f-94e0-048d6f88952f",
   "metadata": {},
   "outputs": [
    {
     "name": "stdin",
     "output_type": "stream",
     "text": [
      "enter your name: haritha\n"
     ]
    },
    {
     "name": "stdout",
     "output_type": "stream",
     "text": [
      "Welcome haritha\n"
     ]
    }
   ],
   "source": [
    "#example:no arg pass with return value\n",
    "def get_name():\n",
    "    name=input(\"enter your name:\")\n",
    "    return name\n",
    "username=get_name()\n",
    "print(\"Welcome\", username)"
   ]
  },
  {
   "cell_type": "code",
   "execution_count": 47,
   "id": "28c74893-1229-4f79-97c0-0a35735ea1b3",
   "metadata": {},
   "outputs": [
    {
     "name": "stdout",
     "output_type": "stream",
     "text": [
      "120\n"
     ]
    }
   ],
   "source": [
    "a=100\n",
    "def value(a):\n",
    "    return a+20\n",
    "print(value(a))"
   ]
  },
  {
   "cell_type": "code",
   "execution_count": 53,
   "id": "ac559cd2-b63a-4c19-9313-f5d82683d527",
   "metadata": {},
   "outputs": [
    {
     "name": "stdin",
     "output_type": "stream",
     "text": [
      "enter the data: haritha\n"
     ]
    },
    {
     "name": "stdout",
     "output_type": "stream",
     "text": [
      "Hello Guest\n",
      "Hello haritha\n"
     ]
    }
   ],
   "source": [
    "def hi(name=\"Guest\"):\n",
    "    print(\"Hello\",name)\n",
    "a=input(\"enter the data:\")\n",
    "hi()\n",
    "hi(a)"
   ]
  },
  {
   "cell_type": "code",
   "execution_count": 85,
   "id": "6828b24f-bbc1-44f9-91ed-9feaf9a3ca7e",
   "metadata": {},
   "outputs": [
    {
     "name": "stdout",
     "output_type": "stream",
     "text": [
      "Name: Haritha\n",
      "Age: 21\n",
      "Name: Naziya\n",
      "Age: 25\n",
      "Name: Kranthi\n",
      "Age: 21\n",
      "Name: Kranthi\n",
      "Age: 25\n"
     ]
    }
   ],
   "source": [
    "def info(name='Kranthi',age=25):\n",
    "    print(\"Name:\",name)\n",
    "    print(\"Age:\",age)\n",
    "info(\"Haritha\",21)\n",
    "info(\"Naziya\")\n",
    "info(age=21)\n",
    "info()"
   ]
  },
  {
   "cell_type": "code",
   "execution_count": 87,
   "id": "5b282751-7b1e-4a4d-9e2d-132ee17f1c8b",
   "metadata": {},
   "outputs": [
    {
     "name": "stdin",
     "output_type": "stream",
     "text": [
      "enter a: 10\n",
      "enter b: 10\n"
     ]
    },
    {
     "name": "stdout",
     "output_type": "stream",
     "text": [
      "sum= 20\n"
     ]
    }
   ],
   "source": [
    "#multiple sum product\n",
    "def cal(a,b):\n",
    "    return a+b,a-b,a*b,a/b\n",
    "a=int(input(\"enter a:\"))\n",
    "b=int(input(\"enter b:\"))\n",
    "sum,diff,pro,div=cal(a,b)\n",
    "print(\"sum=\",sum)\n",
    "print(\"Subtract=\",diff)\n",
    "print(\"produ=\",sum)"
   ]
  },
  {
   "cell_type": "code",
   "execution_count": null,
   "id": "cc26c030-a259-4c8c-9a7f-f90a622df563",
   "metadata": {},
   "outputs": [],
   "source": []
  }
 ],
 "metadata": {
  "kernelspec": {
   "display_name": "Python 3 (ipykernel)",
   "language": "python",
   "name": "python3"
  },
  "language_info": {
   "codemirror_mode": {
    "name": "ipython",
    "version": 3
   },
   "file_extension": ".py",
   "mimetype": "text/x-python",
   "name": "python",
   "nbconvert_exporter": "python",
   "pygments_lexer": "ipython3",
   "version": "3.12.7"
  }
 },
 "nbformat": 4,
 "nbformat_minor": 5
}
